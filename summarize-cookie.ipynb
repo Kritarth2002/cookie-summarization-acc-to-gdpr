{
 "cells": [
  {
   "cell_type": "code",
   "execution_count": null,
   "metadata": {},
   "outputs": [],
   "source": [
    "import os\n",
    "os.environ[\"OPENAI_API_KEY\"] = \"\""
   ]
  },
  {
   "cell_type": "code",
   "execution_count": null,
   "metadata": {},
   "outputs": [],
   "source": [
    "from langchain import PromptTemplate\n",
    "\n",
    "\n",
    "demo_template = '''\n",
    "Please summarize the following extracted text related to personally identifiable information (PII) sharing and privacy laws:\n",
    "\n",
    "{text}\n",
    "\n",
    "Ensure that the summary aligns with GDPR principles, including:\n",
    "\n",
    "- Data minimization: Explain how the collected data is minimized to what is necessary for the specified purpose.\n",
    "- Consent: Describe how individuals' consent is obtained and the right to withdraw it.\n",
    "- Data protection rights: Highlight individuals' rights to access, rectify, and erase their data.\n",
    "- Data security: Discuss the measures in place to secure PII and prevent data breaches.\n",
    "- Cross-border data transfers: Explain how international data transfers are handled in accordance with GDPR.\n",
    "\n",
    "'''\n",
    "\n",
    "prompt = PromptTemplate(\n",
    "    input_variables=['text'],\n",
    "    template=demo_template\n",
    ")\n",
    "\n",
    "prompt.format(text=\"Data privacy regulations have become increasingly important in today's digital age. With the proliferation of online services and the widespread collection of personal information, governments and organizations worldwide have recognized the need to protect individuals' privacy rights. In India, the Personal Data Protection Bill, 2019, is a significant piece of legislation aimed at regulating the processing of personal data. It outlines principles such as data minimization and purpose limitation, requiring organizations to collect only the data necessary for specific purposes. Additionally, it grants individuals rights like the right to access and rectify their data. In the global context, the General Data Protection Regulation (GDPR) in the European Union serves as a benchmark for data privacy laws. GDPR principles include transparency, consent, and data security, ensuring that personal data is handled responsibly. Privacy laws like GDPR and India's data protection bill share common goals, emphasizing the importance of safeguarding personally identifiable information.\")"
   ]
  },
  {
   "cell_type": "code",
   "execution_count": null,
   "metadata": {},
   "outputs": [],
   "source": [
    " # Sample Text - Data Privacy Regulations:\n",
    "\n",
    "    # \"Data privacy regulations have become increasingly important in today's digital age. With the proliferation of online services and the widespread collection of personal information, governments and organizations worldwide have recognized the need to protect individuals' privacy rights. In India, the Personal Data Protection Bill, 2019, is a significant piece of legislation aimed at regulating the processing of personal data. It outlines principles such as data minimization and purpose limitation, requiring organizations to collect only the data necessary for specific purposes. Additionally, it grants individuals rights like the right to access and rectify their data. In the global context, the General Data Protection Regulation (GDPR) in the European Union serves as a benchmark for data privacy laws. GDPR principles include transparency, consent, and data security, ensuring that personal data is handled responsibly. Privacy laws like GDPR and India's data protection bill share common goals, emphasizing the importance of safeguarding personally identifiable information.\"\n",
    "\n",
    "    # Sample Text - Cookies and User Privacy:\n",
    "\n",
    "    # \"Cookies are small text files that websites use to store information on a user's device. While cookies can enhance the user experience by remembering login credentials and site preferences, they also raise concerns about user privacy. In India, the Information Technology (Reasonable Security Practices and Procedures and Sensitive Personal Data or Information) Rules, 2011, govern the collection and handling of sensitive personal data. These rules require organizations to obtain explicit consent from users before collecting data through cookies. GDPR, on the other hand, places strict requirements on cookie usage in the European Union. It mandates that websites must inform users about the types of cookies used and obtain their consent before setting non-essential cookies. This ensures that users have control over their online data and can make informed decisions about their privacy. Understanding the intersection of cookie usage and privacy laws is crucial for organizations operating globally, as they must navigate a complex regulatory landscape to protect user data while providing personalized online experiences.\""
   ]
  },
  {
   "cell_type": "code",
   "execution_count": null,
   "metadata": {},
   "outputs": [],
   "source": [
    "from langchain.llms import OpenAI\n",
    "from langchain.chains import LLMChain\n",
    "\n",
    "llm=OpenAI(temperature=0.7)\n",
    "chain1=LLMChain(llm=llm,prompt=prompt)"
   ]
  },
  {
   "cell_type": "code",
   "execution_count": null,
   "metadata": {},
   "outputs": [],
   "source": [
    "chain1.run(\"Data privacy regulations have become increasingly important in today's digital age. With the proliferation of online services and the widespread collection of personal information, governments and organizations worldwide have recognized the need to protect individuals' privacy rights. In India, the Personal Data Protection Bill, 2019, is a significant piece of legislation aimed at regulating the processing of personal data. It outlines principles such as data minimization and purpose limitation, requiring organizations to collect only the data necessary for specific purposes. Additionally, it grants individuals rights like the right to access and rectify their data. In the global context, the General Data Protection Regulation (GDPR) in the European Union serves as a benchmark for data privacy laws. GDPR principles include transparency, consent, and data security, ensuring that personal data is handled responsibly. Privacy laws like GDPR and India's data protection bill share common goals, emphasizing the importance of safeguarding personally identifiable information.\")"
   ]
  }
 ],
 "metadata": {
  "kernelspec": {
   "display_name": "base",
   "language": "python",
   "name": "python3"
  },
  "language_info": {
   "name": "python",
   "version": "3.10.9"
  },
  "orig_nbformat": 4
 },
 "nbformat": 4,
 "nbformat_minor": 2
}
